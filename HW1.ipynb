{
  "nbformat": 4,
  "nbformat_minor": 0,
  "metadata": {
    "colab": {
      "provenance": []
    },
    "kernelspec": {
      "name": "python3",
      "display_name": "Python 3"
    },
    "language_info": {
      "name": "python"
    }
  },
  "cells": [
    {
      "cell_type": "code",
      "execution_count": 1,
      "metadata": {
        "id": "zBD4n3_zpatc",
        "colab": {
          "base_uri": "https://localhost:8080/"
        },
        "outputId": "a3740b05-2ddb-41ef-d6a7-f1860f544586"
      },
      "outputs": [
        {
          "output_type": "stream",
          "name": "stdout",
          "text": [
            "Enter a decimal number: 200\n",
            "The binary representation of 200 is 11001000.\n",
            "The hexadecimal representation of 200 is C8.\n"
          ]
        }
      ],
      "source": [
        "def decimal_to_binary_and_hex(decimal):\n",
        "    binary = \"\"\n",
        "    hex = \"\"\n",
        "    bin_to_hex_symbols = {\"0000\": \"0\", \"0001\": \"1\", \"0010\": \"2\", \"0011\": \"3\", \n",
        "                        \"0100\": \"4\", \"0101\": \"5\", \"0110\": \"6\", \"0111\": \"7\",\n",
        "                        \"1000\": \"8\", \"1001\": \"9\", \"1010\": \"A\", \"1011\": \"B\",\n",
        "                        \"1100\": \"C\", \"1101\":\"D\",\"1110\":\"E\",\"1111\":\"F\"}\n",
        "\n",
        "    while decimal > 0:\n",
        "        quotient_2 = decimal // 2\n",
        "        remainder_2 = decimal % 2\n",
        "        binary = str(remainder_2) + binary\n",
        "        decimal = quotient_2\n",
        "\n",
        "    # 補0用\n",
        "    binary16 = binary\n",
        "    while len(binary16) % 4 != 0:\n",
        "        binary16 = '0' + binary16\n",
        "    \n",
        "    # 從左到右每四位切割二進制\n",
        "    for i in range(0, len(binary16), 4):\n",
        "        four_bits = binary16[i:i+4]\n",
        "        # 加到十六進制的最右邊 \n",
        "        symbol = bin_to_hex_symbols[four_bits]\n",
        "        hex += symbol\n",
        "\n",
        "    return (binary, hex)\n",
        "\n",
        "# 測試\n",
        "decimal = int(input(\"Enter a decimal number: \")) \n",
        "binary, hex = decimal_to_binary_and_hex(decimal) \n",
        "print(f\"The binary representation of {decimal} is {binary}.\") \n",
        "print(f\"The hexadecimal representation of {decimal} is {hex}.\")."
      ]
    }
  ]
}